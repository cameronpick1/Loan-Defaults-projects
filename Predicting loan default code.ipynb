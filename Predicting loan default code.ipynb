{
 "cells": [
  {
   "cell_type": "code",
   "execution_count": 1,
   "id": "e42ddebe",
   "metadata": {},
   "outputs": [
    {
     "name": "stdout",
     "output_type": "stream",
     "text": [
      "C:\\DSC630\\data\n"
     ]
    }
   ],
   "source": [
    "import numpy as np \n",
    "import pandas as pd \n",
    "import matplotlib.pyplot as plt\n",
    "import seaborn as sns\n",
    "from pylab import rcParams\n",
    "from sklearn.linear_model import LogisticRegression\n",
    "from sklearn.tree import DecisionTreeClassifier\n",
    "from sklearn.model_selection import train_test_split\n",
    "from sklearn.preprocessing import LabelEncoder\n",
    "from sklearn.metrics import accuracy_score\n",
    "from sklearn.preprocessing import MinMaxScaler\n",
    "from sklearn.metrics import confusion_matrix\n",
    "from sklearn.metrics import classification_report\n",
    "%cd C:\\DSC630\\data"
   ]
  },
  {
   "cell_type": "code",
   "execution_count": 2,
   "id": "5c1dc65d",
   "metadata": {},
   "outputs": [
    {
     "data": {
      "text/html": [
       "<div>\n",
       "<style scoped>\n",
       "    .dataframe tbody tr th:only-of-type {\n",
       "        vertical-align: middle;\n",
       "    }\n",
       "\n",
       "    .dataframe tbody tr th {\n",
       "        vertical-align: top;\n",
       "    }\n",
       "\n",
       "    .dataframe thead th {\n",
       "        text-align: right;\n",
       "    }\n",
       "</style>\n",
       "<table border=\"1\" class=\"dataframe\">\n",
       "  <thead>\n",
       "    <tr style=\"text-align: right;\">\n",
       "      <th></th>\n",
       "      <th>Employed</th>\n",
       "      <th>Bank Balance</th>\n",
       "      <th>Annual Salary</th>\n",
       "      <th>Defaulted?</th>\n",
       "    </tr>\n",
       "  </thead>\n",
       "  <tbody>\n",
       "    <tr>\n",
       "      <th>0</th>\n",
       "      <td>1</td>\n",
       "      <td>8754.36</td>\n",
       "      <td>532339.56</td>\n",
       "      <td>0</td>\n",
       "    </tr>\n",
       "    <tr>\n",
       "      <th>1</th>\n",
       "      <td>0</td>\n",
       "      <td>9806.16</td>\n",
       "      <td>145273.56</td>\n",
       "      <td>0</td>\n",
       "    </tr>\n",
       "    <tr>\n",
       "      <th>2</th>\n",
       "      <td>1</td>\n",
       "      <td>12882.60</td>\n",
       "      <td>381205.68</td>\n",
       "      <td>0</td>\n",
       "    </tr>\n",
       "    <tr>\n",
       "      <th>3</th>\n",
       "      <td>1</td>\n",
       "      <td>6351.00</td>\n",
       "      <td>428453.88</td>\n",
       "      <td>0</td>\n",
       "    </tr>\n",
       "    <tr>\n",
       "      <th>4</th>\n",
       "      <td>1</td>\n",
       "      <td>9427.92</td>\n",
       "      <td>461562.00</td>\n",
       "      <td>0</td>\n",
       "    </tr>\n",
       "    <tr>\n",
       "      <th>...</th>\n",
       "      <td>...</td>\n",
       "      <td>...</td>\n",
       "      <td>...</td>\n",
       "      <td>...</td>\n",
       "    </tr>\n",
       "    <tr>\n",
       "      <th>9995</th>\n",
       "      <td>1</td>\n",
       "      <td>8538.72</td>\n",
       "      <td>635908.56</td>\n",
       "      <td>0</td>\n",
       "    </tr>\n",
       "    <tr>\n",
       "      <th>9996</th>\n",
       "      <td>1</td>\n",
       "      <td>9095.52</td>\n",
       "      <td>235928.64</td>\n",
       "      <td>0</td>\n",
       "    </tr>\n",
       "    <tr>\n",
       "      <th>9997</th>\n",
       "      <td>1</td>\n",
       "      <td>10144.92</td>\n",
       "      <td>703633.92</td>\n",
       "      <td>0</td>\n",
       "    </tr>\n",
       "    <tr>\n",
       "      <th>9998</th>\n",
       "      <td>1</td>\n",
       "      <td>18828.12</td>\n",
       "      <td>440029.32</td>\n",
       "      <td>0</td>\n",
       "    </tr>\n",
       "    <tr>\n",
       "      <th>9999</th>\n",
       "      <td>0</td>\n",
       "      <td>2411.04</td>\n",
       "      <td>202355.40</td>\n",
       "      <td>0</td>\n",
       "    </tr>\n",
       "  </tbody>\n",
       "</table>\n",
       "<p>10000 rows × 4 columns</p>\n",
       "</div>"
      ],
      "text/plain": [
       "      Employed  Bank Balance  Annual Salary  Defaulted?\n",
       "0            1       8754.36      532339.56           0\n",
       "1            0       9806.16      145273.56           0\n",
       "2            1      12882.60      381205.68           0\n",
       "3            1       6351.00      428453.88           0\n",
       "4            1       9427.92      461562.00           0\n",
       "...        ...           ...            ...         ...\n",
       "9995         1       8538.72      635908.56           0\n",
       "9996         1       9095.52      235928.64           0\n",
       "9997         1      10144.92      703633.92           0\n",
       "9998         1      18828.12      440029.32           0\n",
       "9999         0       2411.04      202355.40           0\n",
       "\n",
       "[10000 rows x 4 columns]"
      ]
     },
     "execution_count": 2,
     "metadata": {},
     "output_type": "execute_result"
    }
   ],
   "source": [
    "df = pd.read_csv('Default_Fin.csv')\n",
    "data = df.drop('Index', axis=1)\n",
    "data"
   ]
  },
  {
   "cell_type": "code",
   "execution_count": 3,
   "id": "c85c0af3",
   "metadata": {},
   "outputs": [
    {
     "name": "stdout",
     "output_type": "stream",
     "text": [
      "Defaulted?       1.000000\n",
      "Bank Balance     0.350119\n",
      "Annual Salary   -0.019871\n",
      "Employed        -0.035420\n",
      "Name: Defaulted?, dtype: float64 \n",
      "\n"
     ]
    }
   ],
   "source": [
    "correlation=data.corr()\n",
    "print(correlation['Defaulted?'].sort_values(ascending=False),'\\n')"
   ]
  },
  {
   "cell_type": "code",
   "execution_count": 4,
   "id": "5f06437f",
   "metadata": {},
   "outputs": [
    {
     "name": "stdout",
     "output_type": "stream",
     "text": [
      "Bank Balance     1.000000\n",
      "Defaulted?       0.350119\n",
      "Annual Salary   -0.152243\n",
      "Employed        -0.203578\n",
      "Name: Bank Balance, dtype: float64 \n",
      "\n"
     ]
    }
   ],
   "source": [
    "correlation=data.corr()\n",
    "print(correlation['Bank Balance'].sort_values(ascending=False),'\\n')"
   ]
  },
  {
   "cell_type": "code",
   "execution_count": 5,
   "id": "877c1e1a",
   "metadata": {},
   "outputs": [
    {
     "data": {
      "text/plain": [
       "Employed         0\n",
       "Bank Balance     0\n",
       "Annual Salary    0\n",
       "Defaulted?       0\n",
       "dtype: int64"
      ]
     },
     "execution_count": 5,
     "metadata": {},
     "output_type": "execute_result"
    }
   ],
   "source": [
    "data.isnull().sum()"
   ]
  },
  {
   "cell_type": "code",
   "execution_count": 6,
   "id": "b00eed86",
   "metadata": {},
   "outputs": [
    {
     "name": "stdout",
     "output_type": "stream",
     "text": [
      "<class 'pandas.core.frame.DataFrame'>\n",
      "RangeIndex: 10000 entries, 0 to 9999\n",
      "Data columns (total 4 columns):\n",
      " #   Column         Non-Null Count  Dtype  \n",
      "---  ------         --------------  -----  \n",
      " 0   Employed       10000 non-null  int64  \n",
      " 1   Bank Balance   10000 non-null  float64\n",
      " 2   Annual Salary  10000 non-null  float64\n",
      " 3   Defaulted?     10000 non-null  int64  \n",
      "dtypes: float64(2), int64(2)\n",
      "memory usage: 312.6 KB\n"
     ]
    }
   ],
   "source": [
    "data.info()"
   ]
  },
  {
   "cell_type": "code",
   "execution_count": 7,
   "id": "20a0f159",
   "metadata": {},
   "outputs": [
    {
     "data": {
      "text/html": [
       "<div>\n",
       "<style scoped>\n",
       "    .dataframe tbody tr th:only-of-type {\n",
       "        vertical-align: middle;\n",
       "    }\n",
       "\n",
       "    .dataframe tbody tr th {\n",
       "        vertical-align: top;\n",
       "    }\n",
       "\n",
       "    .dataframe thead th {\n",
       "        text-align: right;\n",
       "    }\n",
       "</style>\n",
       "<table border=\"1\" class=\"dataframe\">\n",
       "  <thead>\n",
       "    <tr style=\"text-align: right;\">\n",
       "      <th></th>\n",
       "      <th>Employed</th>\n",
       "      <th>Bank Balance</th>\n",
       "      <th>Annual Salary</th>\n",
       "      <th>Defaulted?</th>\n",
       "    </tr>\n",
       "  </thead>\n",
       "  <tbody>\n",
       "    <tr>\n",
       "      <th>count</th>\n",
       "      <td>10000.000000</td>\n",
       "      <td>10000.000000</td>\n",
       "      <td>10000.000000</td>\n",
       "      <td>10000.000000</td>\n",
       "    </tr>\n",
       "    <tr>\n",
       "      <th>mean</th>\n",
       "      <td>0.705600</td>\n",
       "      <td>10024.498524</td>\n",
       "      <td>402203.782224</td>\n",
       "      <td>0.033300</td>\n",
       "    </tr>\n",
       "    <tr>\n",
       "      <th>std</th>\n",
       "      <td>0.455795</td>\n",
       "      <td>5804.579486</td>\n",
       "      <td>160039.674988</td>\n",
       "      <td>0.179428</td>\n",
       "    </tr>\n",
       "    <tr>\n",
       "      <th>min</th>\n",
       "      <td>0.000000</td>\n",
       "      <td>0.000000</td>\n",
       "      <td>9263.640000</td>\n",
       "      <td>0.000000</td>\n",
       "    </tr>\n",
       "    <tr>\n",
       "      <th>25%</th>\n",
       "      <td>0.000000</td>\n",
       "      <td>5780.790000</td>\n",
       "      <td>256085.520000</td>\n",
       "      <td>0.000000</td>\n",
       "    </tr>\n",
       "    <tr>\n",
       "      <th>50%</th>\n",
       "      <td>1.000000</td>\n",
       "      <td>9883.620000</td>\n",
       "      <td>414631.740000</td>\n",
       "      <td>0.000000</td>\n",
       "    </tr>\n",
       "    <tr>\n",
       "      <th>75%</th>\n",
       "      <td>1.000000</td>\n",
       "      <td>13995.660000</td>\n",
       "      <td>525692.760000</td>\n",
       "      <td>0.000000</td>\n",
       "    </tr>\n",
       "    <tr>\n",
       "      <th>max</th>\n",
       "      <td>1.000000</td>\n",
       "      <td>31851.840000</td>\n",
       "      <td>882650.760000</td>\n",
       "      <td>1.000000</td>\n",
       "    </tr>\n",
       "  </tbody>\n",
       "</table>\n",
       "</div>"
      ],
      "text/plain": [
       "           Employed  Bank Balance  Annual Salary    Defaulted?\n",
       "count  10000.000000  10000.000000   10000.000000  10000.000000\n",
       "mean       0.705600  10024.498524  402203.782224      0.033300\n",
       "std        0.455795   5804.579486  160039.674988      0.179428\n",
       "min        0.000000      0.000000    9263.640000      0.000000\n",
       "25%        0.000000   5780.790000  256085.520000      0.000000\n",
       "50%        1.000000   9883.620000  414631.740000      0.000000\n",
       "75%        1.000000  13995.660000  525692.760000      0.000000\n",
       "max        1.000000  31851.840000  882650.760000      1.000000"
      ]
     },
     "execution_count": 7,
     "metadata": {},
     "output_type": "execute_result"
    }
   ],
   "source": [
    "data.describe()"
   ]
  },
  {
   "cell_type": "code",
   "execution_count": 8,
   "id": "8a473b02",
   "metadata": {},
   "outputs": [
    {
     "data": {
      "image/png": "[encoded data removed]",
      "text/plain": [
       "<Figure size 720x576 with 1 Axes>"
      ]
     },
     "metadata": {
      "needs_background": "light"
     },
     "output_type": "display_data"
    }
   ],
   "source": [
    "fig = plt.figure(figsize=(10,8))\n",
    "\n",
    "sns.kdeplot(data[data['Defaulted?']==1]['Bank Balance'])\n",
    "sns.kdeplot(data[data['Defaulted?']==0]['Bank Balance'])\n",
    "\n",
    "fig.legend(labels=['Defaulted', 'Not Defaulted'])\n",
    "plt.title('Bank Balance')\n",
    "plt.show()"
   ]
  },
  {
   "cell_type": "code",
   "execution_count": 9,
   "id": "f5bc03ac",
   "metadata": {},
   "outputs": [
    {
     "data": {
      "image/png": "[encoded data removed]",
      "text/plain": [
       "<Figure size 720x432 with 1 Axes>"
      ]
     },
     "metadata": {
      "needs_background": "light"
     },
     "output_type": "display_data"
    }
   ],
   "source": [
    "fig = plt.figure(figsize=(10,6))\n",
    "\n",
    "sns.kdeplot(data[data['Defaulted?']==1]['Annual Salary'])\n",
    "sns.kdeplot(data[data['Defaulted?']==0]['Annual Salary'])\n",
    "\n",
    "fig.legend(labels=['Defaulted', 'Not Defaulted'])\n",
    "plt.title('Annual Salary')\n",
    "plt.show()"
   ]
  },
  {
   "cell_type": "code",
   "execution_count": 10,
   "id": "2b1a2c73",
   "metadata": {},
   "outputs": [
    {
     "data": {
      "text/plain": [
       "<function matplotlib.pyplot.show(close=None, block=None)>"
      ]
     },
     "execution_count": 10,
     "metadata": {},
     "output_type": "execute_result"
    },
    {
     "data": {
      "image/png": "[encoded data removed]",
      "text/plain": [
       "<Figure size 432x288 with 1 Axes>"
      ]
     },
     "metadata": {
      "needs_background": "light"
     },
     "output_type": "display_data"
    }
   ],
   "source": [
    "data.boxplot(column=['Annual Salary'])\n",
    "plt.title('Annual Salary Boxplot')\n",
    "plt.ylabel(\"Salary($)\")\n",
    "plt.show"
   ]
  },
  {
   "cell_type": "code",
   "execution_count": 11,
   "id": "e7ea0565",
   "metadata": {},
   "outputs": [
    {
     "data": {
      "text/plain": [
       "<AxesSubplot:title={'center':'Bank balance boxplot'}, ylabel='Bank Balance'>"
      ]
     },
     "execution_count": 11,
     "metadata": {},
     "output_type": "execute_result"
    },
    {
     "data": {
      "image/png": "[encoded data removed]",
      "text/plain": [
       "<Figure size 432x288 with 1 Axes>"
      ]
     },
     "metadata": {
      "needs_background": "light"
     },
     "output_type": "display_data"
    }
   ],
   "source": [
    "plt.title(\"Bank balance boxplot\")\n",
    "sns.boxplot(y = data['Bank Balance'])"
   ]
  },
  {
   "cell_type": "code",
   "execution_count": 12,
   "id": "178b53cb",
   "metadata": {},
   "outputs": [
    {
     "data": {
      "text/plain": [
       "<AxesSubplot:title={'center':'Default column counts'}, xlabel='Defaulted?', ylabel='count'>"
      ]
     },
     "execution_count": 12,
     "metadata": {},
     "output_type": "execute_result"
    },
    {
     "data": {
      "image/png": "[encoded data removed]",
      "text/plain": [
       "<Figure size 432x288 with 1 Axes>"
      ]
     },
     "metadata": {},
     "output_type": "display_data"
    }
   ],
   "source": [
    "sns.set_style('whitegrid')\n",
    "plt.title('Default column counts')\n",
    "sns.countplot(x='Defaulted?',data=data)"
   ]
  },
  {
   "cell_type": "code",
   "execution_count": 13,
   "id": "8b4f5308",
   "metadata": {},
   "outputs": [
    {
     "data": {
      "text/plain": [
       "<AxesSubplot:title={'center':'Employed column counts'}, xlabel='Employed', ylabel='count'>"
      ]
     },
     "execution_count": 13,
     "metadata": {},
     "output_type": "execute_result"
    },
    {
     "data": {
      "image/png": "[encoded data removed]",
      "text/plain": [
       "<Figure size 432x288 with 1 Axes>"
      ]
     },
     "metadata": {},
     "output_type": "display_data"
    }
   ],
   "source": [
    "sns.set_style('whitegrid')\n",
    "plt.title('Employed column counts')\n",
    "sns.countplot(x='Employed',data=data)"
   ]
  },
  {
   "cell_type": "code",
   "execution_count": 14,
   "id": "1b09d5fd",
   "metadata": {},
   "outputs": [
    {
     "data": {
      "text/html": [
       "<div>\n",
       "<style scoped>\n",
       "    .dataframe tbody tr th:only-of-type {\n",
       "        vertical-align: middle;\n",
       "    }\n",
       "\n",
       "    .dataframe tbody tr th {\n",
       "        vertical-align: top;\n",
       "    }\n",
       "\n",
       "    .dataframe thead th {\n",
       "        text-align: right;\n",
       "    }\n",
       "</style>\n",
       "<table border=\"1\" class=\"dataframe\">\n",
       "  <thead>\n",
       "    <tr style=\"text-align: right;\">\n",
       "      <th></th>\n",
       "      <th>Employed</th>\n",
       "      <th>Bank Balance</th>\n",
       "      <th>Annual Salary</th>\n",
       "      <th>Defaulted?</th>\n",
       "    </tr>\n",
       "  </thead>\n",
       "  <tbody>\n",
       "    <tr>\n",
       "      <th>0</th>\n",
       "      <td>1.0</td>\n",
       "      <td>0.274846</td>\n",
       "      <td>0.598905</td>\n",
       "      <td>0</td>\n",
       "    </tr>\n",
       "    <tr>\n",
       "      <th>1</th>\n",
       "      <td>0.0</td>\n",
       "      <td>0.307868</td>\n",
       "      <td>0.155727</td>\n",
       "      <td>0</td>\n",
       "    </tr>\n",
       "    <tr>\n",
       "      <th>2</th>\n",
       "      <td>1.0</td>\n",
       "      <td>0.404454</td>\n",
       "      <td>0.425862</td>\n",
       "      <td>0</td>\n",
       "    </tr>\n",
       "    <tr>\n",
       "      <th>3</th>\n",
       "      <td>1.0</td>\n",
       "      <td>0.199392</td>\n",
       "      <td>0.479959</td>\n",
       "      <td>0</td>\n",
       "    </tr>\n",
       "    <tr>\n",
       "      <th>4</th>\n",
       "      <td>1.0</td>\n",
       "      <td>0.295993</td>\n",
       "      <td>0.517867</td>\n",
       "      <td>0</td>\n",
       "    </tr>\n",
       "    <tr>\n",
       "      <th>...</th>\n",
       "      <td>...</td>\n",
       "      <td>...</td>\n",
       "      <td>...</td>\n",
       "      <td>...</td>\n",
       "    </tr>\n",
       "    <tr>\n",
       "      <th>9995</th>\n",
       "      <td>1.0</td>\n",
       "      <td>0.268076</td>\n",
       "      <td>0.717488</td>\n",
       "      <td>0</td>\n",
       "    </tr>\n",
       "    <tr>\n",
       "      <th>9996</th>\n",
       "      <td>1.0</td>\n",
       "      <td>0.285557</td>\n",
       "      <td>0.259524</td>\n",
       "      <td>0</td>\n",
       "    </tr>\n",
       "    <tr>\n",
       "      <th>9997</th>\n",
       "      <td>1.0</td>\n",
       "      <td>0.318503</td>\n",
       "      <td>0.795032</td>\n",
       "      <td>0</td>\n",
       "    </tr>\n",
       "    <tr>\n",
       "      <th>9998</th>\n",
       "      <td>1.0</td>\n",
       "      <td>0.591116</td>\n",
       "      <td>0.493213</td>\n",
       "      <td>0</td>\n",
       "    </tr>\n",
       "    <tr>\n",
       "      <th>9999</th>\n",
       "      <td>0.0</td>\n",
       "      <td>0.075695</td>\n",
       "      <td>0.221084</td>\n",
       "      <td>0</td>\n",
       "    </tr>\n",
       "  </tbody>\n",
       "</table>\n",
       "<p>10000 rows × 4 columns</p>\n",
       "</div>"
      ],
      "text/plain": [
       "      Employed  Bank Balance  Annual Salary  Defaulted?\n",
       "0          1.0      0.274846       0.598905           0\n",
       "1          0.0      0.307868       0.155727           0\n",
       "2          1.0      0.404454       0.425862           0\n",
       "3          1.0      0.199392       0.479959           0\n",
       "4          1.0      0.295993       0.517867           0\n",
       "...        ...           ...            ...         ...\n",
       "9995       1.0      0.268076       0.717488           0\n",
       "9996       1.0      0.285557       0.259524           0\n",
       "9997       1.0      0.318503       0.795032           0\n",
       "9998       1.0      0.591116       0.493213           0\n",
       "9999       0.0      0.075695       0.221084           0\n",
       "\n",
       "[10000 rows x 4 columns]"
      ]
     },
     "execution_count": 14,
     "metadata": {},
     "output_type": "execute_result"
    }
   ],
   "source": [
    "feature_cols = ['Employed', 'Bank Balance', 'Annual Salary']\n",
    "scaler = MinMaxScaler()\n",
    "data[feature_cols] = scaler.fit_transform(data[feature_cols])\n",
    "data"
   ]
  },
  {
   "cell_type": "code",
   "execution_count": 15,
   "id": "198ddc1e",
   "metadata": {},
   "outputs": [
    {
     "name": "stdout",
     "output_type": "stream",
     "text": [
      "Test Metrics for train_data:\n",
      "[[6711 1023]\n",
      " [  29  237]]\n",
      "              precision    recall  f1-score   support\n",
      "\n",
      "           0       1.00      0.87      0.93      7734\n",
      "           1       0.19      0.89      0.31       266\n",
      "\n",
      "    accuracy                           0.87      8000\n",
      "   macro avg       0.59      0.88      0.62      8000\n",
      "weighted avg       0.97      0.87      0.91      8000\n",
      "\n"
     ]
    }
   ],
   "source": [
    "X = data[feature_cols]\n",
    "y = data['Defaulted?']\n",
    "\n",
    "validation_size = 0.20\n",
    "X_train, X_test, y_train, y_test = train_test_split(X, y, test_size=validation_size, random_state=4, stratify=y)\n",
    "model1=LogisticRegression(class_weight='balanced')\n",
    "model1.fit(X_train,y_train)\n",
    "model1.fit(X_test,y_test)\n",
    "Prediction=model1.predict(X_train)\n",
    "C=confusion_matrix(y_train,Prediction)\n",
    "C_R=classification_report(y_train,Prediction)\n",
    "print(\"Test Metrics for train_data:\")\n",
    "print(C)\n",
    "print(C_R)"
   ]
  },
  {
   "cell_type": "code",
   "execution_count": 16,
   "id": "5386f264",
   "metadata": {},
   "outputs": [
    {
     "name": "stdout",
     "output_type": "stream",
     "text": [
      "Test Metrics for test_data:\n",
      "[[1690  243]\n",
      " [   7   60]]\n",
      "              precision    recall  f1-score   support\n",
      "\n",
      "           0       1.00      0.87      0.93      1933\n",
      "           1       0.20      0.90      0.32        67\n",
      "\n",
      "    accuracy                           0.88      2000\n",
      "   macro avg       0.60      0.88      0.63      2000\n",
      "weighted avg       0.97      0.88      0.91      2000\n",
      "\n"
     ]
    }
   ],
   "source": [
    "Prediction= model1.predict(X_test)\n",
    "C_=confusion_matrix(y_test,Prediction)\n",
    "C_R_=classification_report(y_test,Prediction)\n",
    "print(\"Test Metrics for test_data:\")\n",
    "print(C_)\n",
    "print(C_R_)"
   ]
  },
  {
   "cell_type": "code",
   "execution_count": 17,
   "id": "89c127c0",
   "metadata": {},
   "outputs": [
    {
     "data": {
      "image/png": "[encoded data removed]",
      "text/plain": [
       "<Figure size 432x288 with 1 Axes>"
      ]
     },
     "metadata": {},
     "output_type": "display_data"
    }
   ],
   "source": [
    "g1 = sns.regplot(x= 'Bank Balance', y= 'Defaulted?', data= data, logistic= True).set_title(\"Log Odds Linear Plot\")"
   ]
  },
  {
   "cell_type": "code",
   "execution_count": 18,
   "id": "2f01cd47",
   "metadata": {},
   "outputs": [
    {
     "data": {
      "image/png": "[encoded data removed]",
      "text/plain": [
       "<Figure size 432x288 with 1 Axes>"
      ]
     },
     "metadata": {},
     "output_type": "display_data"
    }
   ],
   "source": [
    "g2 = sns.regplot(x= 'Employed', y= 'Defaulted?', data= data, logistic= True).set_title(\"Log Odds Linear Plot\")"
   ]
  },
  {
   "cell_type": "code",
   "execution_count": 19,
   "id": "bec68053",
   "metadata": {},
   "outputs": [
    {
     "data": {
      "image/png": "[encoded data removed]",
      "text/plain": [
       "<Figure size 432x288 with 1 Axes>"
      ]
     },
     "metadata": {},
     "output_type": "display_data"
    }
   ],
   "source": [
    "g3 = sns.regplot(x= 'Annual Salary', y= 'Defaulted?', data= data, logistic= True).set_title(\"Log Odds Linear Plot\")"
   ]
  },
  {
   "cell_type": "code",
   "execution_count": 20,
   "id": "d5e9cc80",
   "metadata": {},
   "outputs": [
    {
     "name": "stdout",
     "output_type": "stream",
     "text": [
      "Test Metrics for train_data:\n",
      "[[7578  156]\n",
      " [ 174   92]]\n",
      "              precision    recall  f1-score   support\n",
      "\n",
      "           0       0.98      0.98      0.98      7734\n",
      "           1       0.37      0.35      0.36       266\n",
      "\n",
      "    accuracy                           0.96      8000\n",
      "   macro avg       0.67      0.66      0.67      8000\n",
      "weighted avg       0.96      0.96      0.96      8000\n",
      "\n"
     ]
    }
   ],
   "source": [
    "model2=DecisionTreeClassifier(random_state=0)\n",
    "model2.fit(X_train,y_train)\n",
    "model2.fit(X_test,y_test)\n",
    "Prediction=model2.predict(X_train)\n",
    "C=confusion_matrix(y_train,Prediction)\n",
    "C_R=classification_report(y_train,Prediction)\n",
    "print(\"Test Metrics for train_data:\")\n",
    "print(C)\n",
    "print(C_R)"
   ]
  },
  {
   "cell_type": "code",
   "execution_count": 21,
   "id": "36001989",
   "metadata": {},
   "outputs": [
    {
     "name": "stdout",
     "output_type": "stream",
     "text": [
      "Test Metrics for test_data:\n",
      "[[1933    0]\n",
      " [   0   67]]\n",
      "              precision    recall  f1-score   support\n",
      "\n",
      "           0       1.00      1.00      1.00      1933\n",
      "           1       1.00      1.00      1.00        67\n",
      "\n",
      "    accuracy                           1.00      2000\n",
      "   macro avg       1.00      1.00      1.00      2000\n",
      "weighted avg       1.00      1.00      1.00      2000\n",
      "\n"
     ]
    }
   ],
   "source": [
    "Prediction= model2.predict(X_test)\n",
    "C_=confusion_matrix(y_test,Prediction)\n",
    "C_R_=classification_report(y_test,Prediction)\n",
    "print(\"Test Metrics for test_data:\")\n",
    "print(C_)\n",
    "print(C_R_)"
   ]
  },
  {
   "cell_type": "code",
   "execution_count": 22,
   "id": "36f6902b",
   "metadata": {},
   "outputs": [],
   "source": [
    "import imblearn\n",
    "from imblearn.over_sampling import SMOTE\n",
    "from sklearn.ensemble import RandomForestClassifier\n",
    "from sklearn.metrics import precision_score\n",
    "from sklearn.metrics import recall_score\n",
    "from sklearn.metrics import f1_score"
   ]
  },
  {
   "cell_type": "code",
   "execution_count": 23,
   "id": "bdc50b4c",
   "metadata": {},
   "outputs": [],
   "source": [
    "smote=SMOTE(sampling_strategy='minority')\n",
    "X=data.drop('Defaulted?',axis=1)\n",
    "y=data['Defaulted?']\n",
    "X_sm, y_sm=smote.fit_resample(X,y)\n",
    "X_train,X_test,y_train,y_test=train_test_split(X_sm,y_sm,test_size=0.2,random_state=15, stratify=y_sm)"
   ]
  },
  {
   "cell_type": "code",
   "execution_count": 24,
   "id": "2156c9b3",
   "metadata": {},
   "outputs": [
    {
     "name": "stdout",
     "output_type": "stream",
     "text": [
      "Test Metrics for train_data:\n",
      "[[6722 1011]\n",
      " [ 758 6976]]\n",
      "              precision    recall  f1-score   support\n",
      "\n",
      "           0       0.90      0.87      0.88      7733\n",
      "           1       0.87      0.90      0.89      7734\n",
      "\n",
      "    accuracy                           0.89     15467\n",
      "   macro avg       0.89      0.89      0.89     15467\n",
      "weighted avg       0.89      0.89      0.89     15467\n",
      "\n"
     ]
    }
   ],
   "source": [
    "model1=LogisticRegression(class_weight='balanced')\n",
    "model1.fit(X_train,y_train)\n",
    "model1.fit(X_test,y_test)\n",
    "Prediction=model1.predict(X_train)\n",
    "C=confusion_matrix(y_train,Prediction)\n",
    "C_R=classification_report(y_train,Prediction)\n",
    "print(\"Test Metrics for train_data:\")\n",
    "print(C)\n",
    "print(C_R)"
   ]
  },
  {
   "cell_type": "code",
   "execution_count": 25,
   "id": "33b4fec3",
   "metadata": {},
   "outputs": [
    {
     "name": "stdout",
     "output_type": "stream",
     "text": [
      "[[ 0.60879999 13.2118865  -0.19919974]] [-6.93003542]\n"
     ]
    }
   ],
   "source": [
    "print(model1.coef_, model1.intercept_)"
   ]
  },
  {
   "cell_type": "code",
   "execution_count": 26,
   "id": "39273857",
   "metadata": {},
   "outputs": [
    {
     "name": "stdout",
     "output_type": "stream",
     "text": [
      "Test Metrics for test_data:\n",
      "[[1662  272]\n",
      " [ 190 1743]]\n",
      "              precision    recall  f1-score   support\n",
      "\n",
      "           0       0.90      0.86      0.88      1934\n",
      "           1       0.87      0.90      0.88      1933\n",
      "\n",
      "    accuracy                           0.88      3867\n",
      "   macro avg       0.88      0.88      0.88      3867\n",
      "weighted avg       0.88      0.88      0.88      3867\n",
      "\n"
     ]
    }
   ],
   "source": [
    "Prediction= model1.predict(X_test)\n",
    "C_=confusion_matrix(y_test,Prediction)\n",
    "C_R_=classification_report(y_test,Prediction)\n",
    "print(\"Test Metrics for test_data:\")\n",
    "print(C_)\n",
    "print(C_R_)"
   ]
  },
  {
   "cell_type": "code",
   "execution_count": 27,
   "id": "a4d9d540",
   "metadata": {},
   "outputs": [
    {
     "name": "stdout",
     "output_type": "stream",
     "text": [
      "Test Metrics for train_data:\n",
      "[[6675 1058]\n",
      " [ 815 6919]]\n",
      "              precision    recall  f1-score   support\n",
      "\n",
      "           0       0.89      0.86      0.88      7733\n",
      "           1       0.87      0.89      0.88      7734\n",
      "\n",
      "    accuracy                           0.88     15467\n",
      "   macro avg       0.88      0.88      0.88     15467\n",
      "weighted avg       0.88      0.88      0.88     15467\n",
      "\n"
     ]
    }
   ],
   "source": [
    "model2=DecisionTreeClassifier(random_state=0)\n",
    "model2.fit(X_train,y_train)\n",
    "model2.fit(X_test,y_test)\n",
    "Prediction=model2.predict(X_train)\n",
    "C=confusion_matrix(y_train,Prediction)\n",
    "C_R=classification_report(y_train,Prediction)\n",
    "print(\"Test Metrics for train_data:\")\n",
    "print(C)\n",
    "print(C_R)"
   ]
  },
  {
   "cell_type": "code",
   "execution_count": 28,
   "id": "cbb52d41",
   "metadata": {},
   "outputs": [
    {
     "name": "stdout",
     "output_type": "stream",
     "text": [
      "Test Metrics for test_data:\n",
      "[[1934    0]\n",
      " [   0 1933]]\n",
      "              precision    recall  f1-score   support\n",
      "\n",
      "           0       1.00      1.00      1.00      1934\n",
      "           1       1.00      1.00      1.00      1933\n",
      "\n",
      "    accuracy                           1.00      3867\n",
      "   macro avg       1.00      1.00      1.00      3867\n",
      "weighted avg       1.00      1.00      1.00      3867\n",
      "\n"
     ]
    }
   ],
   "source": [
    "Prediction= model2.predict(X_test)\n",
    "C_=confusion_matrix(y_test,Prediction)\n",
    "C_R_=classification_report(y_test,Prediction)\n",
    "print(\"Test Metrics for test_data:\")\n",
    "print(C_)\n",
    "print(C_R_)"
   ]
  },
  {
   "cell_type": "code",
   "execution_count": 29,
   "id": "75b8c7ad",
   "metadata": {},
   "outputs": [
    {
     "name": "stdout",
     "output_type": "stream",
     "text": [
      "Test Metrics for train_data:\n",
      "[[6694 1039]\n",
      " [ 728 7006]]\n",
      "              precision    recall  f1-score   support\n",
      "\n",
      "           0       0.90      0.87      0.88      7733\n",
      "           1       0.87      0.91      0.89      7734\n",
      "\n",
      "    accuracy                           0.89     15467\n",
      "   macro avg       0.89      0.89      0.89     15467\n",
      "weighted avg       0.89      0.89      0.89     15467\n",
      "\n"
     ]
    }
   ],
   "source": [
    "model1=RandomForestClassifier(random_state=42,criterion='gini', max_depth=10, max_features= 'auto', n_estimators= 500, min_samples_split=0.1)\n",
    "model1.fit(X_train,y_train)\n",
    "model1.fit(X_test,y_test)\n",
    "Prediction=model1.predict(X_train)\n",
    "C=confusion_matrix(y_train,Prediction)\n",
    "C_R=classification_report(y_train,Prediction)\n",
    "print(\"Test Metrics for train_data:\")\n",
    "print(C)\n",
    "print(C_R)"
   ]
  },
  {
   "cell_type": "code",
   "execution_count": 30,
   "id": "f45f61d8",
   "metadata": {},
   "outputs": [
    {
     "name": "stdout",
     "output_type": "stream",
     "text": [
      "Test Metrics for test_data:\n",
      "[[1663  271]\n",
      " [ 180 1753]]\n",
      "              precision    recall  f1-score   support\n",
      "\n",
      "           0       0.90      0.86      0.88      1934\n",
      "           1       0.87      0.91      0.89      1933\n",
      "\n",
      "    accuracy                           0.88      3867\n",
      "   macro avg       0.88      0.88      0.88      3867\n",
      "weighted avg       0.88      0.88      0.88      3867\n",
      "\n"
     ]
    }
   ],
   "source": [
    "Prediction= model1.predict(X_test)\n",
    "C_=confusion_matrix(y_test,Prediction)\n",
    "C_R_=classification_report(y_test,Prediction)\n",
    "print(\"Test Metrics for test_data:\")\n",
    "print(C_)\n",
    "print(C_R_)"
   ]
  }
 ],
 "metadata": {
  "kernelspec": {
   "display_name": "Python 3",
   "language": "python",
   "name": "python3"
  },
  "language_info": {
   "codemirror_mode": {
    "name": "ipython",
    "version": 3
   },
   "file_extension": ".py",
   "mimetype": "text/x-python",
   "name": "python",
   "nbconvert_exporter": "python",
   "pygments_lexer": "ipython3",
   "version": "3.8.5"
  }
 },
 "nbformat": 4,
 "nbformat_minor": 5
}
